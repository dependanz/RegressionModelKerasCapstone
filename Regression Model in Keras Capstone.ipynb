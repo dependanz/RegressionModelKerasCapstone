{
    "cells": [
        {
            "cell_type": "code",
            "execution_count": 2,
            "metadata": {},
            "outputs": [
                {
                    "name": "stderr",
                    "output_type": "stream",
                    "text": "Using TensorFlow backend.\n"
                }
            ],
            "source": "import numpy as np\nimport pandas as pd\nimport keras"
        },
        {
            "cell_type": "code",
            "execution_count": 3,
            "metadata": {},
            "outputs": [],
            "source": "from keras.models import Sequential\nfrom keras.utils import to_categorical\nfrom keras.layers import Dense"
        },
        {
            "cell_type": "code",
            "execution_count": 4,
            "metadata": {},
            "outputs": [
                {
                    "data": {
                        "text/html": "<div>\n<style scoped>\n    .dataframe tbody tr th:only-of-type {\n        vertical-align: middle;\n    }\n\n    .dataframe tbody tr th {\n        vertical-align: top;\n    }\n\n    .dataframe thead th {\n        text-align: right;\n    }\n</style>\n<table border=\"1\" class=\"dataframe\">\n  <thead>\n    <tr style=\"text-align: right;\">\n      <th></th>\n      <th>Cement</th>\n      <th>Blast Furnace Slag</th>\n      <th>Fly Ash</th>\n      <th>Water</th>\n      <th>Superplasticizer</th>\n      <th>Coarse Aggregate</th>\n      <th>Fine Aggregate</th>\n      <th>Age</th>\n      <th>Strength</th>\n    </tr>\n  </thead>\n  <tbody>\n    <tr>\n      <th>0</th>\n      <td>540.0</td>\n      <td>0.0</td>\n      <td>0.0</td>\n      <td>162.0</td>\n      <td>2.5</td>\n      <td>1040.0</td>\n      <td>676.0</td>\n      <td>28</td>\n      <td>79.99</td>\n    </tr>\n    <tr>\n      <th>1</th>\n      <td>540.0</td>\n      <td>0.0</td>\n      <td>0.0</td>\n      <td>162.0</td>\n      <td>2.5</td>\n      <td>1055.0</td>\n      <td>676.0</td>\n      <td>28</td>\n      <td>61.89</td>\n    </tr>\n    <tr>\n      <th>2</th>\n      <td>332.5</td>\n      <td>142.5</td>\n      <td>0.0</td>\n      <td>228.0</td>\n      <td>0.0</td>\n      <td>932.0</td>\n      <td>594.0</td>\n      <td>270</td>\n      <td>40.27</td>\n    </tr>\n    <tr>\n      <th>3</th>\n      <td>332.5</td>\n      <td>142.5</td>\n      <td>0.0</td>\n      <td>228.0</td>\n      <td>0.0</td>\n      <td>932.0</td>\n      <td>594.0</td>\n      <td>365</td>\n      <td>41.05</td>\n    </tr>\n    <tr>\n      <th>4</th>\n      <td>198.6</td>\n      <td>132.4</td>\n      <td>0.0</td>\n      <td>192.0</td>\n      <td>0.0</td>\n      <td>978.4</td>\n      <td>825.5</td>\n      <td>360</td>\n      <td>44.30</td>\n    </tr>\n  </tbody>\n</table>\n</div>",
                        "text/plain": "   Cement  Blast Furnace Slag  Fly Ash  Water  Superplasticizer  \\\n0   540.0                 0.0      0.0  162.0               2.5   \n1   540.0                 0.0      0.0  162.0               2.5   \n2   332.5               142.5      0.0  228.0               0.0   \n3   332.5               142.5      0.0  228.0               0.0   \n4   198.6               132.4      0.0  192.0               0.0   \n\n   Coarse Aggregate  Fine Aggregate  Age  Strength  \n0            1040.0           676.0   28     79.99  \n1            1055.0           676.0   28     61.89  \n2             932.0           594.0  270     40.27  \n3             932.0           594.0  365     41.05  \n4             978.4           825.5  360     44.30  "
                    },
                    "execution_count": 4,
                    "metadata": {},
                    "output_type": "execute_result"
                }
            ],
            "source": "# The code was removed by Watson Studio for sharing."
        },
        {
            "cell_type": "code",
            "execution_count": 5,
            "metadata": {},
            "outputs": [],
            "source": "df = df_data_1"
        },
        {
            "cell_type": "code",
            "execution_count": 6,
            "metadata": {},
            "outputs": [],
            "source": "X = df.drop('Strength',axis=1)\ny = df[['Strength']]"
        },
        {
            "cell_type": "code",
            "execution_count": 7,
            "metadata": {},
            "outputs": [],
            "source": "n = X.shape[1]"
        },
        {
            "cell_type": "code",
            "execution_count": 8,
            "metadata": {},
            "outputs": [
                {
                    "name": "stdout",
                    "output_type": "stream",
                    "text": "WARNING:tensorflow:From /opt/conda/envs/Python36/lib/python3.6/site-packages/tensorflow/python/framework/op_def_library.py:263: colocate_with (from tensorflow.python.framework.ops) is deprecated and will be removed in a future version.\nInstructions for updating:\nColocations handled automatically by placer.\n"
                }
            ],
            "source": "model = Sequential()\nmodel.add(Dense(10,activation='relu',input_shape=(n,)))\nmodel.add(Dense(1))\nmodel.compile(optimizer='adam',loss='mean_squared_error')"
        },
        {
            "cell_type": "code",
            "execution_count": 9,
            "metadata": {},
            "outputs": [],
            "source": "from sklearn.model_selection import train_test_split\nX_train,X_test,y_train,y_test = train_test_split(X,y,test_size=0.3)"
        },
        {
            "cell_type": "code",
            "execution_count": null,
            "metadata": {},
            "outputs": [],
            "source": ""
        },
        {
            "cell_type": "code",
            "execution_count": 10,
            "metadata": {},
            "outputs": [
                {
                    "name": "stdout",
                    "output_type": "stream",
                    "text": "WARNING:tensorflow:From /opt/conda/envs/Python36/lib/python3.6/site-packages/tensorflow/python/ops/math_ops.py:3066: to_int32 (from tensorflow.python.ops.math_ops) is deprecated and will be removed in a future version.\nInstructions for updating:\nUse tf.cast instead.\nEpoch 1/50\n721/721 [==============================] - 1s 1ms/step - loss: 336790.3296\nEpoch 2/50\n721/721 [==============================] - 0s 141us/step - loss: 174045.6627\nEpoch 3/50\n721/721 [==============================] - 0s 163us/step - loss: 83335.9957\nEpoch 4/50\n721/721 [==============================] - 0s 140us/step - loss: 35242.8927\nEpoch 5/50\n721/721 [==============================] - 0s 251us/step - loss: 12546.0466\nEpoch 6/50\n721/721 [==============================] - 0s 144us/step - loss: 3958.3176\nEpoch 7/50\n721/721 [==============================] - 0s 129us/step - loss: 1563.2750\nEpoch 8/50\n721/721 [==============================] - 0s 164us/step - loss: 1078.6639\nEpoch 9/50\n721/721 [==============================] - 0s 139us/step - loss: 999.9972\nEpoch 10/50\n721/721 [==============================] - 0s 163us/step - loss: 979.1148\nEpoch 11/50\n721/721 [==============================] - 0s 138us/step - loss: 961.3225\nEpoch 12/50\n721/721 [==============================] - 0s 217us/step - loss: 945.6578\nEpoch 13/50\n721/721 [==============================] - 0s 181us/step - loss: 925.2712\nEpoch 14/50\n721/721 [==============================] - 0s 210us/step - loss: 908.3557\nEpoch 15/50\n721/721 [==============================] - 0s 160us/step - loss: 890.0340\nEpoch 16/50\n721/721 [==============================] - 0s 138us/step - loss: 872.9842\nEpoch 17/50\n721/721 [==============================] - 0s 164us/step - loss: 856.4875\nEpoch 18/50\n721/721 [==============================] - 0s 139us/step - loss: 837.3173\nEpoch 19/50\n721/721 [==============================] - 0s 393us/step - loss: 819.9104\nEpoch 20/50\n721/721 [==============================] - 0s 304us/step - loss: 802.9068\nEpoch 21/50\n721/721 [==============================] - 0s 143us/step - loss: 786.2073\nEpoch 22/50\n721/721 [==============================] - 0s 277us/step - loss: 769.4483\nEpoch 23/50\n721/721 [==============================] - 0s 151us/step - loss: 752.6039\nEpoch 24/50\n721/721 [==============================] - 0s 150us/step - loss: 737.5427\nEpoch 25/50\n721/721 [==============================] - 0s 133us/step - loss: 721.7583\nEpoch 26/50\n721/721 [==============================] - 0s 174us/step - loss: 706.3659\nEpoch 27/50\n721/721 [==============================] - 0s 137us/step - loss: 689.6660\nEpoch 28/50\n721/721 [==============================] - 0s 143us/step - loss: 674.1866\nEpoch 29/50\n721/721 [==============================] - 0s 156us/step - loss: 659.2288\nEpoch 30/50\n721/721 [==============================] - 0s 140us/step - loss: 644.4044\nEpoch 31/50\n721/721 [==============================] - 0s 190us/step - loss: 629.7992\nEpoch 32/50\n721/721 [==============================] - 0s 205us/step - loss: 615.4012\nEpoch 33/50\n721/721 [==============================] - 0s 243us/step - loss: 601.7149\nEpoch 34/50\n721/721 [==============================] - 0s 179us/step - loss: 587.5253\nEpoch 35/50\n721/721 [==============================] - 0s 156us/step - loss: 574.5203\nEpoch 36/50\n721/721 [==============================] - 0s 148us/step - loss: 562.3034\nEpoch 37/50\n721/721 [==============================] - 0s 147us/step - loss: 550.3460\nEpoch 38/50\n721/721 [==============================] - 0s 153us/step - loss: 539.4513\nEpoch 39/50\n721/721 [==============================] - 0s 139us/step - loss: 527.3290\nEpoch 40/50\n721/721 [==============================] - 0s 150us/step - loss: 517.6489\nEpoch 41/50\n721/721 [==============================] - 0s 151us/step - loss: 506.7155\nEpoch 42/50\n721/721 [==============================] - 0s 157us/step - loss: 496.6785\nEpoch 43/50\n721/721 [==============================] - 0s 148us/step - loss: 487.3682\nEpoch 44/50\n721/721 [==============================] - 0s 137us/step - loss: 477.5678\nEpoch 45/50\n721/721 [==============================] - 0s 178us/step - loss: 468.5919\nEpoch 46/50\n721/721 [==============================] - 0s 146us/step - loss: 459.0831\nEpoch 47/50\n721/721 [==============================] - 0s 146us/step - loss: 450.6474\nEpoch 48/50\n721/721 [==============================] - 0s 156us/step - loss: 441.5721\nEpoch 49/50\n721/721 [==============================] - 0s 132us/step - loss: 433.7561\nEpoch 50/50\n721/721 [==============================] - 0s 148us/step - loss: 426.1283\n"
                },
                {
                    "data": {
                        "text/plain": "<keras.callbacks.History at 0x7f28e23542b0>"
                    },
                    "execution_count": 10,
                    "metadata": {},
                    "output_type": "execute_result"
                }
            ],
            "source": "model.fit(X_train,y_train,epochs=50)"
        },
        {
            "cell_type": "code",
            "execution_count": 11,
            "metadata": {},
            "outputs": [],
            "source": "from sklearn.metrics import mean_squared_error\npredictions = model.predict(X_test)"
        },
        {
            "cell_type": "code",
            "execution_count": 12,
            "metadata": {},
            "outputs": [
                {
                    "name": "stdout",
                    "output_type": "stream",
                    "text": "Mean Squared Error:  403.5981583068858\n"
                }
            ],
            "source": "print(\"Mean Squared Error: \",mean_squared_error(y_test,predictions))"
        },
        {
            "cell_type": "code",
            "execution_count": 21,
            "metadata": {},
            "outputs": [],
            "source": "mean_squared_errors = np.zeros(50)"
        },
        {
            "cell_type": "code",
            "execution_count": 24,
            "metadata": {},
            "outputs": [
                {
                    "name": "stdout",
                    "output_type": "stream",
                    "text": "Mean Squared Error( 0 ):  124.22782244909821\nMean Squared Error( 1 ):  105.59451189353967\nMean Squared Error( 2 ):  108.44921075086728\nMean Squared Error( 3 ):  108.5828129264049\nMean Squared Error( 4 ):  115.59197790813639\nMean Squared Error( 5 ):  112.43164325473\nMean Squared Error( 6 ):  119.84749687934033\nMean Squared Error( 7 ):  128.24046524715044\nMean Squared Error( 8 ):  126.59306552497512\nMean Squared Error( 9 ):  108.418717027725\nMean Squared Error( 10 ):  106.06450181943913\nMean Squared Error( 11 ):  115.38612634535563\nMean Squared Error( 12 ):  102.10786338286648\nMean Squared Error( 13 ):  89.81744881447588\nMean Squared Error( 14 ):  49.86720477583321\nMean Squared Error( 15 ):  62.077618432517305\nMean Squared Error( 16 ):  54.66255145159859\nMean Squared Error( 17 ):  73.68770602189174\nMean Squared Error( 18 ):  48.951605843763\nMean Squared Error( 19 ):  48.19092171143364\nMean Squared Error( 20 ):  53.05470156546008\nMean Squared Error( 21 ):  55.63411817771533\nMean Squared Error( 22 ):  51.68204682305369\nMean Squared Error( 23 ):  61.10268082135454\nMean Squared Error( 24 ):  43.59182175705059\nMean Squared Error( 25 ):  52.82406247994186\nMean Squared Error( 26 ):  59.33201986992959\nMean Squared Error( 27 ):  51.50699865104582\nMean Squared Error( 28 ):  51.30466493481616\nMean Squared Error( 29 ):  49.327424592198824\nMean Squared Error( 30 ):  44.8466033804118\nMean Squared Error( 31 ):  52.73838599985484\nMean Squared Error( 32 ):  49.68428209005477\nMean Squared Error( 33 ):  62.91851427810797\nMean Squared Error( 34 ):  49.493008364532784\nMean Squared Error( 35 ):  54.933572163114114\nMean Squared Error( 36 ):  66.94699473267586\nMean Squared Error( 37 ):  45.7728869953753\nMean Squared Error( 38 ):  50.19631501684631\nMean Squared Error( 39 ):  61.5076990210556\nMean Squared Error( 40 ):  47.988189517147376\nMean Squared Error( 41 ):  53.29473471060453\nMean Squared Error( 42 ):  50.20532439205725\nMean Squared Error( 43 ):  48.2864795543798\nMean Squared Error( 44 ):  51.33249324928608\nMean Squared Error( 45 ):  53.62682744495738\nMean Squared Error( 46 ):  52.19574115959994\nMean Squared Error( 47 ):  49.20683150765004\nMean Squared Error( 48 ):  48.75099396064334\nMean Squared Error( 49 ):  52.13322964216994\n"
                }
            ],
            "source": "for i in range(50):\n    X_train,X_test,y_train,y_test = train_test_split(X,y,test_size=0.3)\n    model.fit(X_train,y_train,epochs=50,verbose=0)\n    predictions = model.predict(X_test)\n    mse = mean_squared_error(y_test,predictions)\n    print(\"Mean Squared Error(\", i, \"): \",mse)\n    mean_squared_errors[i] = mse"
        },
        {
            "cell_type": "code",
            "execution_count": 26,
            "metadata": {},
            "outputs": [
                {
                    "name": "stdout",
                    "output_type": "stream",
                    "text": "[124.22782245 105.59451189 108.44921075 108.58281293 115.59197791\n 112.43164325 119.84749688 128.24046525 126.59306552 108.41871703\n 106.06450182 115.38612635 102.10786338  89.81744881  49.86720478\n  62.07761843  54.66255145  73.68770602  48.95160584  48.19092171\n  53.05470157  55.63411818  51.68204682  61.10268082  43.59182176\n  52.82406248  59.33201987  51.50699865  51.30466493  49.32742459\n  44.84660338  52.738386    49.68428209  62.91851428  49.49300836\n  54.93357216  66.94699473  45.772887    50.19631502  61.50769902\n  47.98818952  53.29473471  50.20532439  48.28647955  51.33249325\n  53.62682744  52.19574116  49.20683151  48.75099396  52.13322964]\n"
                }
            ],
            "source": "print(mean_squared_errors)"
        },
        {
            "cell_type": "code",
            "execution_count": null,
            "metadata": {},
            "outputs": [],
            "source": "print(\"The mean of the mean squared errors: \",np.)"
        }
    ],
    "metadata": {
        "kernelspec": {
            "display_name": "Python 3.6",
            "language": "python",
            "name": "python3"
        },
        "language_info": {
            "codemirror_mode": {
                "name": "ipython",
                "version": 3
            },
            "file_extension": ".py",
            "mimetype": "text/x-python",
            "name": "python",
            "nbconvert_exporter": "python",
            "pygments_lexer": "ipython3",
            "version": "3.6.8"
        }
    },
    "nbformat": 4,
    "nbformat_minor": 1
}