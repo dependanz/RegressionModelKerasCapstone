{
    "cells": [
        {
            "cell_type": "code",
            "execution_count": 5,
            "metadata": {},
            "outputs": [],
            "source": "import numpy as np\nimport pandas as pd\nimport keras"
        },
        {
            "cell_type": "code",
            "execution_count": 17,
            "metadata": {},
            "outputs": [],
            "source": "from keras.models import Sequential\nfrom keras.utils import to_categorical\nfrom keras.layers import Dense"
        },
        {
            "cell_type": "code",
            "execution_count": 8,
            "metadata": {},
            "outputs": [
                {
                    "data": {
                        "text/html": "<div>\n<style scoped>\n    .dataframe tbody tr th:only-of-type {\n        vertical-align: middle;\n    }\n\n    .dataframe tbody tr th {\n        vertical-align: top;\n    }\n\n    .dataframe thead th {\n        text-align: right;\n    }\n</style>\n<table border=\"1\" class=\"dataframe\">\n  <thead>\n    <tr style=\"text-align: right;\">\n      <th></th>\n      <th>Cement</th>\n      <th>Blast Furnace Slag</th>\n      <th>Fly Ash</th>\n      <th>Water</th>\n      <th>Superplasticizer</th>\n      <th>Coarse Aggregate</th>\n      <th>Fine Aggregate</th>\n      <th>Age</th>\n      <th>Strength</th>\n    </tr>\n  </thead>\n  <tbody>\n    <tr>\n      <th>0</th>\n      <td>540.0</td>\n      <td>0.0</td>\n      <td>0.0</td>\n      <td>162.0</td>\n      <td>2.5</td>\n      <td>1040.0</td>\n      <td>676.0</td>\n      <td>28</td>\n      <td>79.99</td>\n    </tr>\n    <tr>\n      <th>1</th>\n      <td>540.0</td>\n      <td>0.0</td>\n      <td>0.0</td>\n      <td>162.0</td>\n      <td>2.5</td>\n      <td>1055.0</td>\n      <td>676.0</td>\n      <td>28</td>\n      <td>61.89</td>\n    </tr>\n    <tr>\n      <th>2</th>\n      <td>332.5</td>\n      <td>142.5</td>\n      <td>0.0</td>\n      <td>228.0</td>\n      <td>0.0</td>\n      <td>932.0</td>\n      <td>594.0</td>\n      <td>270</td>\n      <td>40.27</td>\n    </tr>\n    <tr>\n      <th>3</th>\n      <td>332.5</td>\n      <td>142.5</td>\n      <td>0.0</td>\n      <td>228.0</td>\n      <td>0.0</td>\n      <td>932.0</td>\n      <td>594.0</td>\n      <td>365</td>\n      <td>41.05</td>\n    </tr>\n    <tr>\n      <th>4</th>\n      <td>198.6</td>\n      <td>132.4</td>\n      <td>0.0</td>\n      <td>192.0</td>\n      <td>0.0</td>\n      <td>978.4</td>\n      <td>825.5</td>\n      <td>360</td>\n      <td>44.30</td>\n    </tr>\n  </tbody>\n</table>\n</div>",
                        "text/plain": "   Cement  Blast Furnace Slag  Fly Ash  Water  Superplasticizer  \\\n0   540.0                 0.0      0.0  162.0               2.5   \n1   540.0                 0.0      0.0  162.0               2.5   \n2   332.5               142.5      0.0  228.0               0.0   \n3   332.5               142.5      0.0  228.0               0.0   \n4   198.6               132.4      0.0  192.0               0.0   \n\n   Coarse Aggregate  Fine Aggregate  Age  Strength  \n0            1040.0           676.0   28     79.99  \n1            1055.0           676.0   28     61.89  \n2             932.0           594.0  270     40.27  \n3             932.0           594.0  365     41.05  \n4             978.4           825.5  360     44.30  "
                    },
                    "execution_count": 8,
                    "metadata": {},
                    "output_type": "execute_result"
                }
            ],
            "source": "# The code was removed by Watson Studio for sharing."
        },
        {
            "cell_type": "code",
            "execution_count": 9,
            "metadata": {},
            "outputs": [],
            "source": "df = df_data_1"
        },
        {
            "cell_type": "code",
            "execution_count": 40,
            "metadata": {},
            "outputs": [],
            "source": "X = df.drop('Strength',axis=1)\ny = df[['Strength']]"
        },
        {
            "cell_type": "code",
            "execution_count": 41,
            "metadata": {},
            "outputs": [],
            "source": "n = X.shape[1]"
        },
        {
            "cell_type": "code",
            "execution_count": 42,
            "metadata": {},
            "outputs": [],
            "source": "model = Sequential()\nmodel.add(Dense(10,activation='relu',input_shape=(n,)))\nmodel.add(Dense(1))\nmodel.compile(optimizer='adam',loss='mean_squared_error')"
        },
        {
            "cell_type": "code",
            "execution_count": 43,
            "metadata": {},
            "outputs": [],
            "source": "from sklearn.model_selection import train_test_split\nX_train,X_test,y_train,y_test = train_test_split(X,y,test_size=0.3)"
        },
        {
            "cell_type": "code",
            "execution_count": null,
            "metadata": {},
            "outputs": [],
            "source": ""
        },
        {
            "cell_type": "code",
            "execution_count": 44,
            "metadata": {},
            "outputs": [
                {
                    "name": "stdout",
                    "output_type": "stream",
                    "text": "WARNING:tensorflow:From /opt/conda/envs/Python36/lib/python3.6/site-packages/tensorflow/python/ops/math_ops.py:3066: to_int32 (from tensorflow.python.ops.math_ops) is deprecated and will be removed in a future version.\nInstructions for updating:\nUse tf.cast instead.\nEpoch 1/50\n721/721 [==============================] - 1s 1ms/step - loss: 85130.0383\nEpoch 2/50\n721/721 [==============================] - 0s 158us/step - loss: 46024.0692\nEpoch 3/50\n721/721 [==============================] - 0s 137us/step - loss: 17959.9651\nEpoch 4/50\n721/721 [==============================] - 0s 145us/step - loss: 4721.6066\nEpoch 5/50\n721/721 [==============================] - 0s 136us/step - loss: 1901.8255\nEpoch 6/50\n721/721 [==============================] - 0s 140us/step - loss: 1692.5590\nEpoch 7/50\n721/721 [==============================] - 0s 160us/step - loss: 1641.2907\nEpoch 8/50\n721/721 [==============================] - 0s 151us/step - loss: 1585.1405\nEpoch 9/50\n721/721 [==============================] - 0s 149us/step - loss: 1530.5931\nEpoch 10/50\n721/721 [==============================] - 0s 141us/step - loss: 1473.9462\nEpoch 11/50\n721/721 [==============================] - 0s 137us/step - loss: 1419.9405\nEpoch 12/50\n721/721 [==============================] - 0s 141us/step - loss: 1367.1779\nEpoch 13/50\n721/721 [==============================] - 0s 194us/step - loss: 1287.6815\nEpoch 14/50\n721/721 [==============================] - 0s 133us/step - loss: 1107.0791\nEpoch 15/50\n721/721 [==============================] - 0s 143us/step - loss: 933.5951\nEpoch 16/50\n721/721 [==============================] - 0s 160us/step - loss: 785.2685\nEpoch 17/50\n721/721 [==============================] - 0s 140us/step - loss: 667.8121\nEpoch 18/50\n721/721 [==============================] - 0s 166us/step - loss: 574.6582\nEpoch 19/50\n721/721 [==============================] - 0s 160us/step - loss: 503.6435\nEpoch 20/50\n721/721 [==============================] - 0s 144us/step - loss: 443.3779\nEpoch 21/50\n721/721 [==============================] - 0s 141us/step - loss: 395.5671\nEpoch 22/50\n721/721 [==============================] - 0s 137us/step - loss: 355.0044\nEpoch 23/50\n721/721 [==============================] - 0s 139us/step - loss: 324.6845\nEpoch 24/50\n721/721 [==============================] - 0s 142us/step - loss: 304.5307\nEpoch 25/50\n721/721 [==============================] - 0s 144us/step - loss: 281.0746\nEpoch 26/50\n721/721 [==============================] - 0s 163us/step - loss: 259.2243\nEpoch 27/50\n721/721 [==============================] - 0s 152us/step - loss: 245.0588\nEpoch 28/50\n721/721 [==============================] - 0s 141us/step - loss: 230.2870\nEpoch 29/50\n721/721 [==============================] - 0s 141us/step - loss: 220.8447\nEpoch 30/50\n721/721 [==============================] - 0s 160us/step - loss: 209.8723\nEpoch 31/50\n721/721 [==============================] - 0s 148us/step - loss: 201.6109\nEpoch 32/50\n721/721 [==============================] - 0s 141us/step - loss: 193.9855\nEpoch 33/50\n721/721 [==============================] - 0s 140us/step - loss: 187.6764\nEpoch 34/50\n721/721 [==============================] - 0s 141us/step - loss: 178.7457\nEpoch 35/50\n721/721 [==============================] - 0s 159us/step - loss: 173.7107\nEpoch 36/50\n721/721 [==============================] - 0s 145us/step - loss: 172.1638\nEpoch 37/50\n721/721 [==============================] - 0s 165us/step - loss: 164.4086\nEpoch 38/50\n721/721 [==============================] - 0s 135us/step - loss: 159.8002\nEpoch 39/50\n721/721 [==============================] - 0s 161us/step - loss: 155.7205\nEpoch 40/50\n721/721 [==============================] - 0s 198us/step - loss: 153.2856\nEpoch 41/50\n721/721 [==============================] - 0s 164us/step - loss: 149.3318\nEpoch 42/50\n721/721 [==============================] - 0s 140us/step - loss: 145.5328\nEpoch 43/50\n721/721 [==============================] - 0s 160us/step - loss: 144.3817\nEpoch 44/50\n721/721 [==============================] - 0s 141us/step - loss: 140.7855\nEpoch 45/50\n721/721 [==============================] - 0s 166us/step - loss: 141.9744 0s - loss: 139.46\nEpoch 46/50\n721/721 [==============================] - 0s 140us/step - loss: 137.1178\nEpoch 47/50\n721/721 [==============================] - 0s 142us/step - loss: 134.3459\nEpoch 48/50\n721/721 [==============================] - 0s 164us/step - loss: 136.1613\nEpoch 49/50\n721/721 [==============================] - 0s 145us/step - loss: 131.6530\nEpoch 50/50\n721/721 [==============================] - 0s 161us/step - loss: 131.5482\n"
                },
                {
                    "data": {
                        "text/plain": "<keras.callbacks.History at 0x7fd7350ae710>"
                    },
                    "execution_count": 44,
                    "metadata": {},
                    "output_type": "execute_result"
                }
            ],
            "source": "model.fit(X_train,y_train,epochs=50)"
        },
        {
            "cell_type": "code",
            "execution_count": 45,
            "metadata": {},
            "outputs": [],
            "source": "from sklearn.metrics import mean_squared_error\npredictions = model.predict(X_test)"
        },
        {
            "cell_type": "code",
            "execution_count": 46,
            "metadata": {},
            "outputs": [
                {
                    "name": "stdout",
                    "output_type": "stream",
                    "text": "Mean Squared Error:  147.6533909613513\n"
                }
            ],
            "source": "print(\"Mean Squared Error: \",mean_squared_error(y_test,predictions))"
        },
        {
            "cell_type": "code",
            "execution_count": null,
            "metadata": {},
            "outputs": [],
            "source": ""
        }
    ],
    "metadata": {
        "kernelspec": {
            "display_name": "Python 3.6",
            "language": "python",
            "name": "python3"
        },
        "language_info": {
            "codemirror_mode": {
                "name": "ipython",
                "version": 3
            },
            "file_extension": ".py",
            "mimetype": "text/x-python",
            "name": "python",
            "nbconvert_exporter": "python",
            "pygments_lexer": "ipython3",
            "version": "3.6.8"
        }
    },
    "nbformat": 4,
    "nbformat_minor": 1
}